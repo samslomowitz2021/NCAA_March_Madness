{
 "cells": [
  {
   "cell_type": "code",
   "execution_count": 4,
   "id": "6ddba2c7",
   "metadata": {},
   "outputs": [],
   "source": [
    "from splinter import Browser\n",
    "from bs4 import BeautifulSoup\n",
    "from webdriver_manager.chrome import ChromeDriverManager\n",
    "import pandas as pd\n",
    "import numpy as np\n",
    "import requests\n",
    "import time"
   ]
  },
  {
   "cell_type": "code",
   "execution_count": 5,
   "id": "716cc8b8",
   "metadata": {},
   "outputs": [
    {
     "name": "stderr",
     "output_type": "stream",
     "text": [
      "\n",
      "\n",
      "====== WebDriver manager ======\n",
      "Current google-chrome version is 99.0.4844\n",
      "Get LATEST chromedriver version for 99.0.4844 google-chrome\n",
      "Trying to download new driver from https://chromedriver.storage.googleapis.com/99.0.4844.51/chromedriver_win32.zip\n",
      "Driver has been saved in cache [C:\\Users\\samslomowitz\\.wdm\\drivers\\chromedriver\\win32\\99.0.4844.51]\n"
     ]
    },
    {
     "data": {
      "text/html": [
       "<div>\n",
       "<style scoped>\n",
       "    .dataframe tbody tr th:only-of-type {\n",
       "        vertical-align: middle;\n",
       "    }\n",
       "\n",
       "    .dataframe tbody tr th {\n",
       "        vertical-align: top;\n",
       "    }\n",
       "\n",
       "    .dataframe thead th {\n",
       "        text-align: right;\n",
       "    }\n",
       "</style>\n",
       "<table border=\"1\" class=\"dataframe\">\n",
       "  <thead>\n",
       "    <tr style=\"text-align: right;\">\n",
       "      <th></th>\n",
       "      <th>Round</th>\n",
       "      <th>Day</th>\n",
       "      <th>Team 1</th>\n",
       "      <th>Team 2</th>\n",
       "      <th>Time (ET)</th>\n",
       "      <th>TV Network</th>\n",
       "      <th>City</th>\n",
       "      <th>Venue</th>\n",
       "    </tr>\n",
       "  </thead>\n",
       "  <tbody>\n",
       "  </tbody>\n",
       "</table>\n",
       "</div>"
      ],
      "text/plain": [
       "Empty DataFrame\n",
       "Columns: [Round, Day, Team 1, Team 2, Time (ET), TV Network, City, Venue]\n",
       "Index: []"
      ]
     },
     "execution_count": 5,
     "metadata": {},
     "output_type": "execute_result"
    }
   ],
   "source": [
    "\n",
    "\n",
    "url = \"https://www.ncaa.com/news/basketball-men/article/2022-03-18/2022-march-madness-complete-schedule-dates\"\n",
    "# response = requests.get(url)\n",
    "browser.visit(url)\n",
    "time.sleep(3)\n",
    "\n",
    "html = browser.html\n",
    "html[0:500]\n",
    "\n",
    "soup = BeautifulSoup(html, \"lxml\")\n",
    "\n",
    "container = soup.find(\"table\", style=\"width: 100%;\")\n",
    "schedule = container.find_all(\"tr\")\n",
    "len(schedule)\n",
    "\n",
    "cols = [\"Team 1\", \"Team 2\",\"Time (ET)\", \"TV Network\", \"City\", \"Venue\"]\n",
    "lst2=[]\n",
    "i=0\n",
    "for a in range(1,len(schedule)):\n",
    "#     try:\n",
    "    row=schedule[a]\n",
    "#     print(row)\n",
    "    bold_title=row.find_all(\"strong\")\n",
    "  \n",
    "    if (len(bold_title)>0):\n",
    "        if (\"March\" in bold_title[0].text)|(\"Sweet 16\" in bold_title[0].text):\n",
    "            round1= bold_title[0].text.strip()\n",
    "#             print(round1)\n",
    "            found = True\n",
    "        else:\n",
    "            found =False\n",
    "    \n",
    "    if(found==False):\n",
    "        if(\"Sweet 16\" in round1):\n",
    "            break\n",
    "        \n",
    "        game1 = row.text.strip()\n",
    "        print(game1)    \n",
    "        game2 = game1.split(\",\" and \"\\n\")\n",
    "        game3 = pd.DataFrame(game2)\n",
    "        game4 = game3.transpose()\n",
    "        game4b=pd.DataFrame(game4)\n",
    "        if(\",\" in game4b[0].values[0]):\n",
    "            notplayed=False\n",
    "            game5=pd.DataFrame(game4b[0].str.split(',',1).tolist(),columns = ['Team1','Team2'])\n",
    "        else:\n",
    "            notplayed=True\n",
    "            game5=pd.DataFrame(game4b[0].str.split(' vs.',1).tolist(),columns = ['Team1','Team2'])\n",
    "        game6 =game4.drop([0], axis=1)\n",
    "\n",
    "        result = pd.concat([game5,game6], axis=1)\n",
    "        result2=result.rename(columns={\"Team1\": \"Team 1\", \"Team2\":\"Team 2\",1:\"Time (ET)\",2: \"TV Network\",3: \"City\", 4:\"Venue\"})\n",
    "        result3=pd.DataFrame(result2)\n",
    "        if notplayed: \n",
    "            var1 = \" \".join(result3.iloc[0]['Team 1'].split(\" \")[2:])\n",
    "            var2 = \" \".join(result3.iloc[0]['Team 2'].split(\" (\")[0].strip().split(\" \")[2:])\n",
    "        else:\n",
    "            var1 = \" \".join(result3.iloc[0]['Team 1'][:-2].split(\" \")[2:])\n",
    "            var2 = \" \".join(result3.iloc[0]['Team 2'].split(\" (\")[0][:-2].strip().split(\" \")[2:])\n",
    "        var3 = result3.iloc[0]['Time (ET)']\n",
    "        var4 = result3.iloc[0]['TV Network']\n",
    "        var5 = result3.iloc[0]['City']\n",
    "        var6 = result3.iloc[0]['Venue']\n",
    "        \n",
    "        round2 = round1.split(\" — \")[0]\n",
    "        day = round1.split(\" — \")[1]\n",
    "        lst2.append([round2,day,var1, var2, var3, var4, var5, var6])\n",
    "#             i+=1\n",
    "        \n",
    "#     except Exception as e:\n",
    "#         print(\"An exception occurred\")\n",
    "#         print(e)\n",
    "\n",
    "\n",
    "df = pd.DataFrame(lst2, columns = [\"Round\",\"Day\",\"Team 1\", \"Team 2\",\"Time (ET)\", \"TV Network\", \"City\", \"Venue\"])\n",
    "df\n"
   ]
  },
  {
   "cell_type": "code",
   "execution_count": null,
   "id": "f6716363",
   "metadata": {},
   "outputs": [],
   "source": [
    "df.to_csv(\"scheduleFinal800.csv\")"
   ]
  },
  {
   "cell_type": "code",
   "execution_count": null,
   "id": "687cff72",
   "metadata": {},
   "outputs": [],
   "source": []
  }
 ],
 "metadata": {
  "kernelspec": {
   "display_name": "Python 3 (ipykernel)",
   "language": "python",
   "name": "python3"
  },
  "language_info": {
   "codemirror_mode": {
    "name": "ipython",
    "version": 3
   },
   "file_extension": ".py",
   "mimetype": "text/x-python",
   "name": "python",
   "nbconvert_exporter": "python",
   "pygments_lexer": "ipython3",
   "version": "3.9.7"
  }
 },
 "nbformat": 4,
 "nbformat_minor": 5
}
