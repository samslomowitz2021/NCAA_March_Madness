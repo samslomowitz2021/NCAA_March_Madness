{
 "cells": [
  {
   "cell_type": "code",
   "execution_count": 1,
   "id": "af382b69",
   "metadata": {},
   "outputs": [],
   "source": [
    "from splinter import Browser\n",
    "from bs4 import BeautifulSoup\n",
    "from webdriver_manager.chrome import ChromeDriverManager\n",
    "import pandas as pd\n",
    "import numpy as np\n",
    "import requests\n",
    "import time"
   ]
  },
  {
   "cell_type": "code",
   "execution_count": 2,
   "id": "52990f26",
   "metadata": {},
   "outputs": [
    {
     "data": {
      "text/plain": [
       "91"
      ]
     },
     "execution_count": 2,
     "metadata": {},
     "output_type": "execute_result"
    }
   ],
   "source": [
    "url = \"https://www.si.com/college/2022/03/15/march-madness-picks-seeding-ncaa-tournament-teams\"\n",
    "\n",
    "\n",
    "response = requests.get(url)\n",
    "\n",
    "html = response.text\n",
    "html[0:500]\n",
    "\n",
    "soup = BeautifulSoup(html, \"lxml\")\n",
    "\n",
    "# container = soup.find(\"p\", \"strong\")\n",
    "team = soup.find_all(\"p\")\n",
    "len(team)"
   ]
  },
  {
   "cell_type": "code",
   "execution_count": 3,
   "id": "c405e6d8",
   "metadata": {},
   "outputs": [
    {
     "name": "stdout",
     "output_type": "stream",
     "text": [
      "1. Gonzaga:\n",
      "2. Arizona:\n",
      "3. Kansas:\n",
      "4. Purdue:\n",
      "5. UCLA:\n",
      "6. Tennessee:\n",
      "7. Kentucky:\n",
      "8. Texas Tech:\n",
      "9. Baylor:\n",
      "10. Villanova:\n",
      "11. Duke:\n",
      "12. Arkansas:\n",
      "13. Iowa:\n",
      "14. Saint Mary’s:\n",
      "15. Houston:\n",
      "16. Illinois:\n",
      "17. Auburn:\n",
      "18. Connecticut:\n",
      "19. Boise State:\n",
      "20. Memphis:\n",
      "21. Texas:\n",
      "22. Creighton:\n",
      "23. Wisconsin:\n",
      "24. Murray State:\n",
      "25. San Diego State:\n",
      "26. Loyola Chicago:\n",
      "27. Michigan State:\n",
      "28. North Carolina:\n",
      "29. Virginia Tech:\n",
      "30. San Francisco:\n",
      "31. Indiana:\n",
      "32. Colorado State:\n",
      "33. USC:\n",
      "34. Seton Hall:\n",
      "35. Michigan:\n",
      "36. Rutgers:\n",
      "37. Alabama:\n",
      "38. Ohio State:\n",
      "39. South Dakota State:\n",
      "40. Providence:\n",
      "41. LSU:\n",
      "42. Davidson:\n",
      "43. TCU:\n",
      "44. Miami:\n",
      "45. UAB:\n",
      "46. Vermont:\n",
      "47. Notre Dame:\n",
      "48. Wyoming:\n",
      "49. Colgate:\n",
      "50. Marquette:\n",
      "51. Iowa State:\n",
      "52. New Mexico State:\n",
      "53. Chattanooga:\n",
      "54. Richmond:\n",
      "55. Akron:\n",
      "56. Montana State:\n",
      "57. Saint Peter’s:\n",
      "58. Longwood:\n",
      "59. Yale:\n",
      "60. Jacksonville State:\n",
      "61. Delaware:\n",
      "62. Wright State:\n",
      "63. Norfolk State:\n",
      "64. Cal State–Fullerton:\n",
      "65. Georgia State:\n",
      "66. Bryant:\n",
      "67. Texas Southern:\n",
      "68. Texas A&M–Corpus Christi:\n",
      "More March Madness Coverage:\n",
      "•\n"
     ]
    }
   ],
   "source": [
    "cols = [\"Team Rank\"]\n",
    "lst=[]\n",
    "\n",
    "for a in range(1,len(team)):\n",
    "#     try:\n",
    "    row=team[a]\n",
    "#     print(row)\n",
    "    bold_title=row.find_all(\"strong\")\n",
    "#     print(bold_title)\n",
    "  \n",
    "    if (len(bold_title)>0):\n",
    "        rank= bold_title[0].text.strip()\n",
    "        print(rank)\n",
    "        found = True\n",
    "    else:\n",
    "        found =False\n",
    "    lst.append([rank])"
   ]
  },
  {
   "cell_type": "code",
   "execution_count": 42,
   "id": "93f4ef95",
   "metadata": {},
   "outputs": [],
   "source": [
    "df = pd.DataFrame(lst, columns =cols)\n",
    "\n"
   ]
  },
  {
   "cell_type": "code",
   "execution_count": 43,
   "id": "2656ddde",
   "metadata": {},
   "outputs": [],
   "source": [
    "file2 = df.drop_duplicates()"
   ]
  },
  {
   "cell_type": "code",
   "execution_count": 44,
   "id": "d94aabfd",
   "metadata": {},
   "outputs": [],
   "source": [
    "file3=file2.reset_index(drop=True)"
   ]
  },
  {
   "cell_type": "code",
   "execution_count": 45,
   "id": "8b7579c0",
   "metadata": {},
   "outputs": [
    {
     "data": {
      "text/html": [
       "<div>\n",
       "<style scoped>\n",
       "    .dataframe tbody tr th:only-of-type {\n",
       "        vertical-align: middle;\n",
       "    }\n",
       "\n",
       "    .dataframe tbody tr th {\n",
       "        vertical-align: top;\n",
       "    }\n",
       "\n",
       "    .dataframe thead th {\n",
       "        text-align: right;\n",
       "    }\n",
       "</style>\n",
       "<table border=\"1\" class=\"dataframe\">\n",
       "  <thead>\n",
       "    <tr style=\"text-align: right;\">\n",
       "      <th></th>\n",
       "      <th>Team Rank</th>\n",
       "      <th>Team</th>\n",
       "    </tr>\n",
       "  </thead>\n",
       "  <tbody>\n",
       "    <tr>\n",
       "      <th>0</th>\n",
       "      <td>1</td>\n",
       "      <td>Gonzaga:</td>\n",
       "    </tr>\n",
       "    <tr>\n",
       "      <th>1</th>\n",
       "      <td>2</td>\n",
       "      <td>Arizona:</td>\n",
       "    </tr>\n",
       "    <tr>\n",
       "      <th>2</th>\n",
       "      <td>3</td>\n",
       "      <td>Kansas:</td>\n",
       "    </tr>\n",
       "    <tr>\n",
       "      <th>3</th>\n",
       "      <td>4</td>\n",
       "      <td>Purdue:</td>\n",
       "    </tr>\n",
       "    <tr>\n",
       "      <th>4</th>\n",
       "      <td>5</td>\n",
       "      <td>UCLA:</td>\n",
       "    </tr>\n",
       "    <tr>\n",
       "      <th>...</th>\n",
       "      <td>...</td>\n",
       "      <td>...</td>\n",
       "    </tr>\n",
       "    <tr>\n",
       "      <th>65</th>\n",
       "      <td>66</td>\n",
       "      <td>Bryant:</td>\n",
       "    </tr>\n",
       "    <tr>\n",
       "      <th>66</th>\n",
       "      <td>67</td>\n",
       "      <td>Texas Southern:</td>\n",
       "    </tr>\n",
       "    <tr>\n",
       "      <th>67</th>\n",
       "      <td>68</td>\n",
       "      <td>Texas A&amp;M–Corpus Christi:</td>\n",
       "    </tr>\n",
       "    <tr>\n",
       "      <th>68</th>\n",
       "      <td>More March Madness Coverage:</td>\n",
       "      <td>None</td>\n",
       "    </tr>\n",
       "    <tr>\n",
       "      <th>69</th>\n",
       "      <td>•</td>\n",
       "      <td>None</td>\n",
       "    </tr>\n",
       "  </tbody>\n",
       "</table>\n",
       "<p>70 rows × 2 columns</p>\n",
       "</div>"
      ],
      "text/plain": [
       "                       Team Rank                        Team\n",
       "0                              1                    Gonzaga:\n",
       "1                              2                    Arizona:\n",
       "2                              3                     Kansas:\n",
       "3                              4                     Purdue:\n",
       "4                              5                       UCLA:\n",
       "..                           ...                         ...\n",
       "65                            66                     Bryant:\n",
       "66                            67             Texas Southern:\n",
       "67                            68   Texas A&M–Corpus Christi:\n",
       "68  More March Madness Coverage:                        None\n",
       "69                             •                        None\n",
       "\n",
       "[70 rows x 2 columns]"
      ]
     },
     "execution_count": 45,
     "metadata": {},
     "output_type": "execute_result"
    }
   ],
   "source": [
    "file3[['Team Rank','Team']] = file3['Team Rank'].str.split('.',expand=True)\n",
    "file3"
   ]
  },
  {
   "cell_type": "code",
   "execution_count": null,
   "id": "ef806011",
   "metadata": {},
   "outputs": [],
   "source": [
    "file3.to_csv(\"Rank_3_22_2022.csv\")"
   ]
  }
 ],
 "metadata": {
  "kernelspec": {
   "display_name": "Python 3 (ipykernel)",
   "language": "python",
   "name": "python3"
  },
  "language_info": {
   "codemirror_mode": {
    "name": "ipython",
    "version": 3
   },
   "file_extension": ".py",
   "mimetype": "text/x-python",
   "name": "python",
   "nbconvert_exporter": "python",
   "pygments_lexer": "ipython3",
   "version": "3.9.7"
  }
 },
 "nbformat": 4,
 "nbformat_minor": 5
}
