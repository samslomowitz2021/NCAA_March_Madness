{
 "cells": [
  {
   "cell_type": "code",
   "execution_count": 2,
   "id": "47f6542a",
   "metadata": {},
   "outputs": [],
   "source": [
    "from splinter import Browser\n",
    "from bs4 import BeautifulSoup\n",
    "from webdriver_manager.chrome import ChromeDriverManager\n",
    "import pandas as pd\n",
    "\n",
    "import requests"
   ]
  },
  {
   "cell_type": "code",
   "execution_count": 3,
   "id": "92911b36",
   "metadata": {},
   "outputs": [],
   "source": [
    "counter=0\n",
    "urls ={0:\"https://basketball.realgm.com/ncaa/stats/2022/Averages/Qualified/All/Post-Season_NCAA_Tournament/All/points/desc/1/\",\n",
    "      1:'https://basketball.realgm.com/ncaa/stats/2022/Averages/Qualified/All/Post-Season_NCAA_Tournament/All/points/desc/2',\n",
    "      2:\"https://basketball.realgm.com/ncaa/stats/2022/Averages/Qualified/All/Post-Season_NCAA_Tournament/All/points/desc/3\",\n",
    "        3:\"https://basketball.realgm.com/ncaa/stats/2022/Averages/Qualified/All/Post-Season_NCAA_Tournament/All/points/desc/4\",\n",
    "      4:\"https://basketball.realgm.com/ncaa/stats/2022/Averages/Qualified/All/Post-Season_NCAA_Tournament/All/points/desc/5\",\n",
    "      5:\"https://basketball.realgm.com/ncaa/stats/2022/Averages/Qualified/All/Post-Season_NCAA_Tournament/All/points/desc/6\",\n",
    "      6:\"https://basketball.realgm.com/ncaa/stats/2022/Averages/Qualified/All/Post-Season_NCAA_Tournament/All/points/desc/7\",\n",
    "      7:\"https://basketball.realgm.com/ncaa/stats/2022/Averages/Qualified/All/Post-Season_NCAA_Tournament/All/points/desc/8\"}"
   ]
  },
  {
   "cell_type": "code",
   "execution_count": 4,
   "id": "a2ce9221",
   "metadata": {},
   "outputs": [
    {
     "name": "stderr",
     "output_type": "stream",
     "text": [
      "\n",
      "\n",
      "====== WebDriver manager ======\n",
      "Current google-chrome version is 99.0.4844\n",
      "Get LATEST chromedriver version for 99.0.4844 google-chrome\n",
      "Trying to download new driver from https://chromedriver.storage.googleapis.com/99.0.4844.51/chromedriver_win32.zip\n",
      "Driver has been saved in cache [C:\\Users\\samslomowitz\\.wdm\\drivers\\chromedriver\\win32\\99.0.4844.51]\n",
      "C:\\Users\\samslomowitz\\anaconda3\\lib\\site-packages\\splinter\\driver\\webdriver\\__init__.py:501: FutureWarning: browser.find_link_by_href is deprecated. Use browser.links.find_by_href instead.\n",
      "  warnings.warn(\n",
      "C:\\Users\\samslomowitz\\anaconda3\\lib\\site-packages\\splinter\\driver\\webdriver\\__init__.py:525: FutureWarning: browser.find_link_by_text is deprecated. Use browser.links.find_by_text instead.\n",
      "  warnings.warn(\n"
     ]
    },
    {
     "name": "stdout",
     "output_type": "stream",
     "text": [
      "Found last page\n"
     ]
    }
   ],
   "source": [
    "main_df=pd.DataFrame()\n",
    "\n",
    "\n",
    "\n",
    "executable_path = {'executable_path': ChromeDriverManager().install()}\n",
    "browser = Browser('chrome', **executable_path, headless=False)\n",
    "\n",
    "browser.visit(urls[0])\n",
    "    \n",
    "for url in urls.values():\n",
    "    \n",
    "    try:\n",
    "        browser.find_by_css('.fs-close-button').click()\n",
    "        browser.click_link_by_id('cookiescript_accept')\n",
    "    except:\n",
    "        pass\n",
    "\n",
    "    html = browser.html\n",
    "    \n",
    "    dfs = pd.read_html(html)\n",
    "    if len(dfs)>0:\n",
    "        \n",
    "        main_df=main_df.append(dfs[0])\n",
    "    \n",
    "    counter+=1\n",
    "    \n",
    "    try:\n",
    "        browser.click_link_by_href(urls[counter]) \n",
    "   \n",
    "        \n",
    "#         browser.click_link_by_partial_text('Next')\n",
    "#         browser.click_link_by_id('link_id')\n",
    "#     urls[counter]\n",
    "#     test_urls=next(iter(urls))\n",
    "#     var1=list(urls)\n",
    "    \n",
    "#     try:\n",
    "#         res=var1[var1.index(test_urls)+1]\n",
    "#     except (ValueError, IndexError):\n",
    "#         pass\n",
    "    except:\n",
    "        try:\n",
    "            \n",
    "            browser.click_link_by_text('Next Page »') \n",
    "        except:\n",
    "            print(\"Found last page\")"
   ]
  },
  {
   "cell_type": "code",
   "execution_count": null,
   "id": "ab0dcfa9",
   "metadata": {},
   "outputs": [],
   "source": [
    "main_df.head()"
   ]
  },
  {
   "cell_type": "code",
   "execution_count": null,
   "id": "3a686b73",
   "metadata": {},
   "outputs": [],
   "source": [
    "main_df.to_csv(\"players.csv\")"
   ]
  }
 ],
 "metadata": {
  "kernelspec": {
   "display_name": "Python 3 (ipykernel)",
   "language": "python",
   "name": "python3"
  },
  "language_info": {
   "codemirror_mode": {
    "name": "ipython",
    "version": 3
   },
   "file_extension": ".py",
   "mimetype": "text/x-python",
   "name": "python",
   "nbconvert_exporter": "python",
   "pygments_lexer": "ipython3",
   "version": "3.9.7"
  }
 },
 "nbformat": 4,
 "nbformat_minor": 5
}
